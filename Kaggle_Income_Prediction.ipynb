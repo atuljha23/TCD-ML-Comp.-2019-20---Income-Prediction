{
 "cells": [
  {
   "cell_type": "markdown",
   "metadata": {
    "_cell_guid": "b1076dfc-b9ad-4769-8c92-a6c4dae69d19",
    "_uuid": "8f2839f25d086af736a60e9eeb907d3b93b6e0e5"
   },
   "source": [
    "# Importing Libraries"
   ]
  },
  {
   "cell_type": "code",
   "execution_count": null,
   "metadata": {},
   "outputs": [],
   "source": [
    "import numpy as np\n",
    "import pandas as pd\n",
    "import sklearn.preprocessing as pp\n",
    "import sklearn.model_selection as ms\n",
    "import sklearn.metrics as metrics\n",
    "from sklearn.metrics import r2_score, mean_squared_error\n",
    "from sklearn.preprocessing import Imputer\n",
    "import matplotlib.pyplot as plt\n",
    "import warnings  \n",
    "warnings.filterwarnings('ignore')\n",
    "import seaborn as sns"
   ]
  },
  {
   "cell_type": "markdown",
   "metadata": {},
   "source": [
    "# Loading Files"
   ]
  },
  {
   "cell_type": "code",
   "execution_count": 2,
   "metadata": {
    "_cell_guid": "79c7e3d0-c299-4dcb-8224-4455121ee9b0",
    "_uuid": "d629ff2d2480ee46fbb7e2d37f6b5fab8052498a"
   },
   "outputs": [],
   "source": [
    "df2 = pd.read_csv('tcd ml 2019-20 income prediction training (with labels).csv')\n",
    "df1 = pd.read_csv('tcd ml 2019-20 income prediction test (without labels).csv')\n",
    "df1.rename(columns={'Income':'Income in EUR'},inplace=True)\n",
    "data = pd.concat([df2, df1])\n",
    "#data = data.fillna(method='ffill')\n",
    "data = data.set_index('Instance')\n",
    "numeric_features = ['Year of Record', 'Age', 'Size of City','Body Height [cm]']"
   ]
  },
  {
   "cell_type": "markdown",
   "metadata": {},
   "source": [
    "# Preprocessing Files"
   ]
  },
  {
   "cell_type": "code",
   "execution_count": 3,
   "metadata": {},
   "outputs": [
    {
     "data": {
      "text/plain": [
       "Year of Record           0\n",
       "Gender                   0\n",
       "Age                      0\n",
       "Country                  0\n",
       "Size of City             0\n",
       "Profession               0\n",
       "University Degree        0\n",
       "Wears Glasses            0\n",
       "Hair Color           12158\n",
       "Body Height [cm]         0\n",
       "Income in EUR            0\n",
       "dtype: int64"
      ]
     },
     "execution_count": 3,
     "metadata": {},
     "output_type": "execute_result"
    }
   ],
   "source": [
    "data[['Age','Year of Record']] =data[['Age','Year of Record']].fillna(0).astype(np.int64)\n",
    "data['Year of Record']= data['Year of Record'].fillna(data['Year of Record'].median())\n",
    "data['Age']= data['Age'].fillna(data['Age'].median())\n",
    "data['Income in EUR']= data['Income in EUR'].fillna(data['Income in EUR'].median())\n",
    "data['Profession']= data['Profession'].fillna(data['Profession'].mode()[0])\n",
    "data['University Degree']= data['University Degree'].fillna(data['University Degree'].mode()[0])\n",
    "data['Gender'] = data['Gender'].fillna(data['Gender'].mode()[0])\n",
    "data.isnull().sum()"
   ]
  },
  {
   "cell_type": "markdown",
   "metadata": {},
   "source": [
    "# Using MinMax Scaler for Numerical Data"
   ]
  },
  {
   "cell_type": "code",
   "execution_count": 4,
   "metadata": {},
   "outputs": [
    {
     "data": {
      "text/html": [
       "<div>\n",
       "<style scoped>\n",
       "    .dataframe tbody tr th:only-of-type {\n",
       "        vertical-align: middle;\n",
       "    }\n",
       "\n",
       "    .dataframe tbody tr th {\n",
       "        vertical-align: top;\n",
       "    }\n",
       "\n",
       "    .dataframe thead th {\n",
       "        text-align: right;\n",
       "    }\n",
       "</style>\n",
       "<table border=\"1\" class=\"dataframe\">\n",
       "  <thead>\n",
       "    <tr style=\"text-align: right;\">\n",
       "      <th></th>\n",
       "      <th>Year of Record</th>\n",
       "      <th>Gender</th>\n",
       "      <th>Age</th>\n",
       "      <th>Country</th>\n",
       "      <th>Size of City</th>\n",
       "      <th>Profession</th>\n",
       "      <th>University Degree</th>\n",
       "      <th>Wears Glasses</th>\n",
       "      <th>Hair Color</th>\n",
       "      <th>Body Height [cm]</th>\n",
       "      <th>Income in EUR</th>\n",
       "    </tr>\n",
       "    <tr>\n",
       "      <th>Instance</th>\n",
       "      <th></th>\n",
       "      <th></th>\n",
       "      <th></th>\n",
       "      <th></th>\n",
       "      <th></th>\n",
       "      <th></th>\n",
       "      <th></th>\n",
       "      <th></th>\n",
       "      <th></th>\n",
       "      <th></th>\n",
       "      <th></th>\n",
       "    </tr>\n",
       "  </thead>\n",
       "  <tbody>\n",
       "    <tr>\n",
       "      <th>1</th>\n",
       "      <td>0.989104</td>\n",
       "      <td>0</td>\n",
       "      <td>0.325397</td>\n",
       "      <td>Belarus</td>\n",
       "      <td>0.024801</td>\n",
       "      <td>steel workers</td>\n",
       "      <td>Bachelor</td>\n",
       "      <td>0</td>\n",
       "      <td>Blond</td>\n",
       "      <td>0.578947</td>\n",
       "      <td>61031.94416</td>\n",
       "    </tr>\n",
       "    <tr>\n",
       "      <th>2</th>\n",
       "      <td>0.988608</td>\n",
       "      <td>other</td>\n",
       "      <td>0.325397</td>\n",
       "      <td>Singapore</td>\n",
       "      <td>0.032073</td>\n",
       "      <td>safe event coordinator</td>\n",
       "      <td>Master</td>\n",
       "      <td>0</td>\n",
       "      <td>Black</td>\n",
       "      <td>0.538012</td>\n",
       "      <td>91001.32764</td>\n",
       "    </tr>\n",
       "    <tr>\n",
       "      <th>3</th>\n",
       "      <td>0.999505</td>\n",
       "      <td>other</td>\n",
       "      <td>0.222222</td>\n",
       "      <td>Norway</td>\n",
       "      <td>0.025963</td>\n",
       "      <td>receivables/payables analyst</td>\n",
       "      <td>PhD</td>\n",
       "      <td>1</td>\n",
       "      <td>Brown</td>\n",
       "      <td>0.444444</td>\n",
       "      <td>157982.17670</td>\n",
       "    </tr>\n",
       "    <tr>\n",
       "      <th>4</th>\n",
       "      <td>0.993561</td>\n",
       "      <td>other</td>\n",
       "      <td>0.261905</td>\n",
       "      <td>Cuba</td>\n",
       "      <td>0.015039</td>\n",
       "      <td>fleet assistant</td>\n",
       "      <td>No</td>\n",
       "      <td>1</td>\n",
       "      <td>Black</td>\n",
       "      <td>0.450292</td>\n",
       "      <td>45993.75793</td>\n",
       "    </tr>\n",
       "    <tr>\n",
       "      <th>5</th>\n",
       "      <td>0.995542</td>\n",
       "      <td>female</td>\n",
       "      <td>0.365079</td>\n",
       "      <td>United Arab Emirates</td>\n",
       "      <td>0.001907</td>\n",
       "      <td>lead trainer</td>\n",
       "      <td>0</td>\n",
       "      <td>0</td>\n",
       "      <td>Blond</td>\n",
       "      <td>0.549708</td>\n",
       "      <td>38022.16217</td>\n",
       "    </tr>\n",
       "  </tbody>\n",
       "</table>\n",
       "</div>"
      ],
      "text/plain": [
       "          Year of Record  Gender       Age               Country  \\\n",
       "Instance                                                           \n",
       "1               0.989104       0  0.325397               Belarus   \n",
       "2               0.988608   other  0.325397             Singapore   \n",
       "3               0.999505   other  0.222222                Norway   \n",
       "4               0.993561   other  0.261905                  Cuba   \n",
       "5               0.995542  female  0.365079  United Arab Emirates   \n",
       "\n",
       "          Size of City                    Profession University Degree  \\\n",
       "Instance                                                                 \n",
       "1             0.024801                 steel workers          Bachelor   \n",
       "2             0.032073        safe event coordinator            Master   \n",
       "3             0.025963  receivables/payables analyst               PhD   \n",
       "4             0.015039               fleet assistant                No   \n",
       "5             0.001907                  lead trainer                 0   \n",
       "\n",
       "          Wears Glasses Hair Color  Body Height [cm]  Income in EUR  \n",
       "Instance                                                             \n",
       "1                     0      Blond          0.578947    61031.94416  \n",
       "2                     0      Black          0.538012    91001.32764  \n",
       "3                     1      Brown          0.444444   157982.17670  \n",
       "4                     1      Black          0.450292    45993.75793  \n",
       "5                     0      Blond          0.549708    38022.16217  "
      ]
     },
     "metadata": {},
     "output_type": "display_data"
    }
   ],
   "source": [
    "#Import sklearn.preprocessing.StandardScaler\n",
    "from sklearn.preprocessing import MinMaxScaler\n",
    "\n",
    "# Initialize a scaler, then apply it to the featuresz\n",
    "scaler = MinMaxScaler() # default=(0, 1)\n",
    "numerical = ['Age', 'Year of Record', 'Size of City', 'Body Height [cm]']\n",
    "\n",
    "features_log_minmax_transform = pd.DataFrame(data = data)\n",
    "features_log_minmax_transform[numerical] = scaler.fit_transform(data[numerical])\n",
    "\n",
    "# Show an example of a record with scaling applied\n",
    "#features_log_minmax_transform = features_log_minmax_transform.drop['Hair Color']\n",
    "display(features_log_minmax_transform.head(n = 5))"
   ]
  },
  {
   "cell_type": "markdown",
   "metadata": {},
   "source": [
    "## Dropping features which aren't useful."
   ]
  },
  {
   "cell_type": "code",
   "execution_count": 5,
   "metadata": {},
   "outputs": [],
   "source": [
    "features_log_minmax_transform = features_log_minmax_transform.drop(['Hair Color','Wears Glasses'], axis=1)"
   ]
  },
  {
   "cell_type": "code",
   "execution_count": 6,
   "metadata": {},
   "outputs": [
    {
     "data": {
      "text/html": [
       "<div>\n",
       "<style scoped>\n",
       "    .dataframe tbody tr th:only-of-type {\n",
       "        vertical-align: middle;\n",
       "    }\n",
       "\n",
       "    .dataframe tbody tr th {\n",
       "        vertical-align: top;\n",
       "    }\n",
       "\n",
       "    .dataframe thead th {\n",
       "        text-align: right;\n",
       "    }\n",
       "</style>\n",
       "<table border=\"1\" class=\"dataframe\">\n",
       "  <thead>\n",
       "    <tr style=\"text-align: right;\">\n",
       "      <th></th>\n",
       "      <th>Year of Record</th>\n",
       "      <th>Gender</th>\n",
       "      <th>Age</th>\n",
       "      <th>Country</th>\n",
       "      <th>Size of City</th>\n",
       "      <th>Profession</th>\n",
       "      <th>University Degree</th>\n",
       "      <th>Body Height [cm]</th>\n",
       "      <th>Income in EUR</th>\n",
       "    </tr>\n",
       "    <tr>\n",
       "      <th>Instance</th>\n",
       "      <th></th>\n",
       "      <th></th>\n",
       "      <th></th>\n",
       "      <th></th>\n",
       "      <th></th>\n",
       "      <th></th>\n",
       "      <th></th>\n",
       "      <th></th>\n",
       "      <th></th>\n",
       "    </tr>\n",
       "  </thead>\n",
       "  <tbody>\n",
       "    <tr>\n",
       "      <th>1</th>\n",
       "      <td>0.989104</td>\n",
       "      <td>0</td>\n",
       "      <td>0.325397</td>\n",
       "      <td>Belarus</td>\n",
       "      <td>0.024801</td>\n",
       "      <td>steel workers</td>\n",
       "      <td>Bachelor</td>\n",
       "      <td>0.578947</td>\n",
       "      <td>61031.94416</td>\n",
       "    </tr>\n",
       "    <tr>\n",
       "      <th>2</th>\n",
       "      <td>0.988608</td>\n",
       "      <td>other</td>\n",
       "      <td>0.325397</td>\n",
       "      <td>Singapore</td>\n",
       "      <td>0.032073</td>\n",
       "      <td>safe event coordinator</td>\n",
       "      <td>Master</td>\n",
       "      <td>0.538012</td>\n",
       "      <td>91001.32764</td>\n",
       "    </tr>\n",
       "    <tr>\n",
       "      <th>3</th>\n",
       "      <td>0.999505</td>\n",
       "      <td>other</td>\n",
       "      <td>0.222222</td>\n",
       "      <td>Norway</td>\n",
       "      <td>0.025963</td>\n",
       "      <td>receivables/payables analyst</td>\n",
       "      <td>PhD</td>\n",
       "      <td>0.444444</td>\n",
       "      <td>157982.17670</td>\n",
       "    </tr>\n",
       "    <tr>\n",
       "      <th>4</th>\n",
       "      <td>0.993561</td>\n",
       "      <td>other</td>\n",
       "      <td>0.261905</td>\n",
       "      <td>Cuba</td>\n",
       "      <td>0.015039</td>\n",
       "      <td>fleet assistant</td>\n",
       "      <td>No</td>\n",
       "      <td>0.450292</td>\n",
       "      <td>45993.75793</td>\n",
       "    </tr>\n",
       "    <tr>\n",
       "      <th>5</th>\n",
       "      <td>0.995542</td>\n",
       "      <td>female</td>\n",
       "      <td>0.365079</td>\n",
       "      <td>United Arab Emirates</td>\n",
       "      <td>0.001907</td>\n",
       "      <td>lead trainer</td>\n",
       "      <td>0</td>\n",
       "      <td>0.549708</td>\n",
       "      <td>38022.16217</td>\n",
       "    </tr>\n",
       "    <tr>\n",
       "      <th>6</th>\n",
       "      <td>0.986132</td>\n",
       "      <td>male</td>\n",
       "      <td>0.476190</td>\n",
       "      <td>Liberia</td>\n",
       "      <td>0.001120</td>\n",
       "      <td>senior security analyst</td>\n",
       "      <td>Bachelor</td>\n",
       "      <td>0.508772</td>\n",
       "      <td>125809.99030</td>\n",
       "    </tr>\n",
       "    <tr>\n",
       "      <th>7</th>\n",
       "      <td>0.981674</td>\n",
       "      <td>male</td>\n",
       "      <td>0.563492</td>\n",
       "      <td>State of Palestine</td>\n",
       "      <td>0.024106</td>\n",
       "      <td>program associate</td>\n",
       "      <td>Bachelor</td>\n",
       "      <td>0.467836</td>\n",
       "      <td>150319.42260</td>\n",
       "    </tr>\n",
       "    <tr>\n",
       "      <th>8</th>\n",
       "      <td>0.994552</td>\n",
       "      <td>male</td>\n",
       "      <td>0.285714</td>\n",
       "      <td>Israel</td>\n",
       "      <td>0.000627</td>\n",
       "      <td>retail specialist</td>\n",
       "      <td>Bachelor</td>\n",
       "      <td>0.561404</td>\n",
       "      <td>11849.02876</td>\n",
       "    </tr>\n",
       "    <tr>\n",
       "      <th>9</th>\n",
       "      <td>0.998019</td>\n",
       "      <td>male</td>\n",
       "      <td>0.341270</td>\n",
       "      <td>South Sudan</td>\n",
       "      <td>0.001705</td>\n",
       "      <td>intergovernmental outreach coordinator</td>\n",
       "      <td>No</td>\n",
       "      <td>0.555556</td>\n",
       "      <td>48058.20607</td>\n",
       "    </tr>\n",
       "    <tr>\n",
       "      <th>10</th>\n",
       "      <td>1.000000</td>\n",
       "      <td>female</td>\n",
       "      <td>0.126984</td>\n",
       "      <td>Cuba</td>\n",
       "      <td>0.026510</td>\n",
       "      <td>lease analyst</td>\n",
       "      <td>Bachelor</td>\n",
       "      <td>0.368421</td>\n",
       "      <td>90940.68912</td>\n",
       "    </tr>\n",
       "  </tbody>\n",
       "</table>\n",
       "</div>"
      ],
      "text/plain": [
       "          Year of Record  Gender       Age               Country  \\\n",
       "Instance                                                           \n",
       "1               0.989104       0  0.325397               Belarus   \n",
       "2               0.988608   other  0.325397             Singapore   \n",
       "3               0.999505   other  0.222222                Norway   \n",
       "4               0.993561   other  0.261905                  Cuba   \n",
       "5               0.995542  female  0.365079  United Arab Emirates   \n",
       "6               0.986132    male  0.476190               Liberia   \n",
       "7               0.981674    male  0.563492    State of Palestine   \n",
       "8               0.994552    male  0.285714                Israel   \n",
       "9               0.998019    male  0.341270           South Sudan   \n",
       "10              1.000000  female  0.126984                  Cuba   \n",
       "\n",
       "          Size of City                              Profession  \\\n",
       "Instance                                                         \n",
       "1             0.024801                           steel workers   \n",
       "2             0.032073                  safe event coordinator   \n",
       "3             0.025963            receivables/payables analyst   \n",
       "4             0.015039                         fleet assistant   \n",
       "5             0.001907                            lead trainer   \n",
       "6             0.001120                 senior security analyst   \n",
       "7             0.024106                       program associate   \n",
       "8             0.000627                       retail specialist   \n",
       "9             0.001705  intergovernmental outreach coordinator   \n",
       "10            0.026510                           lease analyst   \n",
       "\n",
       "         University Degree  Body Height [cm]  Income in EUR  \n",
       "Instance                                                     \n",
       "1                 Bachelor          0.578947    61031.94416  \n",
       "2                   Master          0.538012    91001.32764  \n",
       "3                      PhD          0.444444   157982.17670  \n",
       "4                       No          0.450292    45993.75793  \n",
       "5                        0          0.549708    38022.16217  \n",
       "6                 Bachelor          0.508772   125809.99030  \n",
       "7                 Bachelor          0.467836   150319.42260  \n",
       "8                 Bachelor          0.561404    11849.02876  \n",
       "9                       No          0.555556    48058.20607  \n",
       "10                Bachelor          0.368421    90940.68912  "
      ]
     },
     "execution_count": 6,
     "metadata": {},
     "output_type": "execute_result"
    }
   ],
   "source": [
    "newdf = features_log_minmax_transform\n",
    "newdf.head(10)"
   ]
  },
  {
   "cell_type": "code",
   "execution_count": 7,
   "metadata": {},
   "outputs": [],
   "source": [
    "# Categorical boolean mask\n",
    "categorical_feature_mask = newdf.dtypes==object\n",
    "# filter categorical columns using mask and turn it into a list\n",
    "categorical_cols = newdf.columns[categorical_feature_mask].tolist()"
   ]
  },
  {
   "cell_type": "code",
   "execution_count": 8,
   "metadata": {},
   "outputs": [],
   "source": [
    "# import labelencoder\n",
    "from sklearn.preprocessing import LabelEncoder\n",
    "# instantiate labelencoder object\n",
    "le = LabelEncoder()"
   ]
  },
  {
   "cell_type": "code",
   "execution_count": 9,
   "metadata": {},
   "outputs": [
    {
     "data": {
      "text/html": [
       "<div>\n",
       "<style scoped>\n",
       "    .dataframe tbody tr th:only-of-type {\n",
       "        vertical-align: middle;\n",
       "    }\n",
       "\n",
       "    .dataframe tbody tr th {\n",
       "        vertical-align: top;\n",
       "    }\n",
       "\n",
       "    .dataframe thead th {\n",
       "        text-align: right;\n",
       "    }\n",
       "</style>\n",
       "<table border=\"1\" class=\"dataframe\">\n",
       "  <thead>\n",
       "    <tr style=\"text-align: right;\">\n",
       "      <th></th>\n",
       "      <th>Gender</th>\n",
       "      <th>Country</th>\n",
       "      <th>Profession</th>\n",
       "      <th>University Degree</th>\n",
       "    </tr>\n",
       "    <tr>\n",
       "      <th>Instance</th>\n",
       "      <th></th>\n",
       "      <th></th>\n",
       "      <th></th>\n",
       "      <th></th>\n",
       "    </tr>\n",
       "  </thead>\n",
       "  <tbody>\n",
       "    <tr>\n",
       "      <th>1</th>\n",
       "      <td>0</td>\n",
       "      <td>12</td>\n",
       "      <td>1220</td>\n",
       "      <td>1</td>\n",
       "    </tr>\n",
       "    <tr>\n",
       "      <th>2</th>\n",
       "      <td>3</td>\n",
       "      <td>128</td>\n",
       "      <td>1059</td>\n",
       "      <td>2</td>\n",
       "    </tr>\n",
       "    <tr>\n",
       "      <th>3</th>\n",
       "      <td>3</td>\n",
       "      <td>109</td>\n",
       "      <td>1019</td>\n",
       "      <td>4</td>\n",
       "    </tr>\n",
       "    <tr>\n",
       "      <th>4</th>\n",
       "      <td>3</td>\n",
       "      <td>36</td>\n",
       "      <td>566</td>\n",
       "      <td>3</td>\n",
       "    </tr>\n",
       "    <tr>\n",
       "      <th>5</th>\n",
       "      <td>1</td>\n",
       "      <td>156</td>\n",
       "      <td>732</td>\n",
       "      <td>0</td>\n",
       "    </tr>\n",
       "    <tr>\n",
       "      <th>6</th>\n",
       "      <td>2</td>\n",
       "      <td>82</td>\n",
       "      <td>1154</td>\n",
       "      <td>1</td>\n",
       "    </tr>\n",
       "    <tr>\n",
       "      <th>7</th>\n",
       "      <td>2</td>\n",
       "      <td>138</td>\n",
       "      <td>959</td>\n",
       "      <td>1</td>\n",
       "    </tr>\n",
       "    <tr>\n",
       "      <th>8</th>\n",
       "      <td>2</td>\n",
       "      <td>69</td>\n",
       "      <td>1049</td>\n",
       "      <td>1</td>\n",
       "    </tr>\n",
       "    <tr>\n",
       "      <th>9</th>\n",
       "      <td>2</td>\n",
       "      <td>135</td>\n",
       "      <td>677</td>\n",
       "      <td>3</td>\n",
       "    </tr>\n",
       "    <tr>\n",
       "      <th>10</th>\n",
       "      <td>1</td>\n",
       "      <td>36</td>\n",
       "      <td>734</td>\n",
       "      <td>1</td>\n",
       "    </tr>\n",
       "  </tbody>\n",
       "</table>\n",
       "</div>"
      ],
      "text/plain": [
       "          Gender  Country  Profession  University Degree\n",
       "Instance                                                \n",
       "1              0       12        1220                  1\n",
       "2              3      128        1059                  2\n",
       "3              3      109        1019                  4\n",
       "4              3       36         566                  3\n",
       "5              1      156         732                  0\n",
       "6              2       82        1154                  1\n",
       "7              2      138         959                  1\n",
       "8              2       69        1049                  1\n",
       "9              2      135         677                  3\n",
       "10             1       36         734                  1"
      ]
     },
     "execution_count": 9,
     "metadata": {},
     "output_type": "execute_result"
    }
   ],
   "source": [
    "# apply le on categorical feature columns\n",
    "newdf[categorical_cols] = newdf[categorical_cols].astype('category')\n",
    "newdf[categorical_cols] = newdf[categorical_cols].apply(lambda col: le.fit_transform(col))\n",
    "newdf[categorical_cols].head(10)"
   ]
  },
  {
   "cell_type": "code",
   "execution_count": 10,
   "metadata": {},
   "outputs": [],
   "source": [
    "# import OneHotEncoder\n",
    "from sklearn.preprocessing import OneHotEncoder\n",
    "# instantiate OneHotEncoder\n",
    "ohe = OneHotEncoder(categorical_features = categorical_feature_mask, sparse=False ) \n",
    "# categorical_features = boolean mask for categorical columns\n",
    "# sparse = False output an array not sparse matrix"
   ]
  },
  {
   "cell_type": "code",
   "execution_count": 11,
   "metadata": {},
   "outputs": [
    {
     "data": {
      "text/plain": [
       "Year of Record       0\n",
       "Gender               0\n",
       "Age                  0\n",
       "Country              0\n",
       "Size of City         0\n",
       "Profession           0\n",
       "University Degree    0\n",
       "Body Height [cm]     0\n",
       "Income in EUR        0\n",
       "dtype: int64"
      ]
     },
     "execution_count": 11,
     "metadata": {},
     "output_type": "execute_result"
    }
   ],
   "source": [
    "newdf.isnull().sum()"
   ]
  },
  {
   "cell_type": "code",
   "execution_count": 12,
   "metadata": {},
   "outputs": [],
   "source": [
    "# apply OneHotEncoder on categorical feature columns\n",
    "X_ohe = ohe.fit_transform(newdf) # It returns an numpy array"
   ]
  },
  {
   "cell_type": "markdown",
   "metadata": {},
   "source": [
    "## Correlation Graph"
   ]
  },
  {
   "cell_type": "code",
   "execution_count": 13,
   "metadata": {},
   "outputs": [
    {
     "data": {
      "image/png": "[encoded data removed]",
      "text/plain": [
       "<Figure size 864x720 with 2 Axes>"
      ]
     },
     "metadata": {
      "needs_background": "light"
     },
     "output_type": "display_data"
    }
   ],
   "source": [
    "#Using Pearson Correlation\n",
    "plt.figure(figsize=(12,10))\n",
    "cor = newdf.corr()\n",
    "sns.heatmap(cor, annot=True, cmap=plt.cm.Reds)\n",
    "plt.show()"
   ]
  },
  {
   "cell_type": "code",
   "execution_count": 14,
   "metadata": {},
   "outputs": [
    {
     "data": {
      "text/plain": [
       "Age                 0.140767\n",
       "Profession          0.083513\n",
       "Body Height [cm]    0.055880\n",
       "Income in EUR       1.000000\n",
       "Name: Income in EUR, dtype: float64"
      ]
     },
     "execution_count": 14,
     "metadata": {},
     "output_type": "execute_result"
    }
   ],
   "source": [
    "#Correlation with output variable\n",
    "cor_target = abs(cor[\"Income in EUR\"])\n",
    "#Selecting highly correlated features\n",
    "relevant_features = cor_target[cor_target>0.05]\n",
    "relevant_features"
   ]
  },
  {
   "cell_type": "code",
   "execution_count": 15,
   "metadata": {},
   "outputs": [],
   "source": [
    "import re\n",
    "train_df = newdf[:df2.shape[0]]\n",
    "test_df = newdf[df2.shape[0]:]\n",
    "regex = re.compile(r\"\\[|\\]|<\", re.IGNORECASE)\n",
    "train_df.columns = [regex.sub(\"_\", col) if any(x in str(col) for x in set(('[', ']', '<'))) else col for col in train_df.columns.values]\n",
    "test_df.columns = [regex.sub(\"_\", col) if any(x in str(col) for x in set(('[', ']', '<'))) else col for col in test_df.columns.values]\n",
    "x_test = test_df.drop(['Income in EUR'],axis=1)"
   ]
  },
  {
   "cell_type": "code",
   "execution_count": 16,
   "metadata": {},
   "outputs": [
    {
     "data": {
      "text/html": [
       "<div>\n",
       "<style scoped>\n",
       "    .dataframe tbody tr th:only-of-type {\n",
       "        vertical-align: middle;\n",
       "    }\n",
       "\n",
       "    .dataframe tbody tr th {\n",
       "        vertical-align: top;\n",
       "    }\n",
       "\n",
       "    .dataframe thead th {\n",
       "        text-align: right;\n",
       "    }\n",
       "</style>\n",
       "<table border=\"1\" class=\"dataframe\">\n",
       "  <thead>\n",
       "    <tr style=\"text-align: right;\">\n",
       "      <th></th>\n",
       "      <th>Year of Record</th>\n",
       "      <th>Gender</th>\n",
       "      <th>Age</th>\n",
       "      <th>Country</th>\n",
       "      <th>Size of City</th>\n",
       "      <th>Profession</th>\n",
       "      <th>University Degree</th>\n",
       "      <th>Body Height _cm_</th>\n",
       "      <th>Income in EUR</th>\n",
       "    </tr>\n",
       "    <tr>\n",
       "      <th>Instance</th>\n",
       "      <th></th>\n",
       "      <th></th>\n",
       "      <th></th>\n",
       "      <th></th>\n",
       "      <th></th>\n",
       "      <th></th>\n",
       "      <th></th>\n",
       "      <th></th>\n",
       "      <th></th>\n",
       "    </tr>\n",
       "  </thead>\n",
       "  <tbody>\n",
       "    <tr>\n",
       "      <th>1</th>\n",
       "      <td>0.989104</td>\n",
       "      <td>0</td>\n",
       "      <td>0.325397</td>\n",
       "      <td>12</td>\n",
       "      <td>0.024801</td>\n",
       "      <td>1220</td>\n",
       "      <td>1</td>\n",
       "      <td>0.578947</td>\n",
       "      <td>61031.94416</td>\n",
       "    </tr>\n",
       "    <tr>\n",
       "      <th>2</th>\n",
       "      <td>0.988608</td>\n",
       "      <td>3</td>\n",
       "      <td>0.325397</td>\n",
       "      <td>128</td>\n",
       "      <td>0.032073</td>\n",
       "      <td>1059</td>\n",
       "      <td>2</td>\n",
       "      <td>0.538012</td>\n",
       "      <td>91001.32764</td>\n",
       "    </tr>\n",
       "    <tr>\n",
       "      <th>3</th>\n",
       "      <td>0.999505</td>\n",
       "      <td>3</td>\n",
       "      <td>0.222222</td>\n",
       "      <td>109</td>\n",
       "      <td>0.025963</td>\n",
       "      <td>1019</td>\n",
       "      <td>4</td>\n",
       "      <td>0.444444</td>\n",
       "      <td>157982.17670</td>\n",
       "    </tr>\n",
       "    <tr>\n",
       "      <th>4</th>\n",
       "      <td>0.993561</td>\n",
       "      <td>3</td>\n",
       "      <td>0.261905</td>\n",
       "      <td>36</td>\n",
       "      <td>0.015039</td>\n",
       "      <td>566</td>\n",
       "      <td>3</td>\n",
       "      <td>0.450292</td>\n",
       "      <td>45993.75793</td>\n",
       "    </tr>\n",
       "    <tr>\n",
       "      <th>5</th>\n",
       "      <td>0.995542</td>\n",
       "      <td>1</td>\n",
       "      <td>0.365079</td>\n",
       "      <td>156</td>\n",
       "      <td>0.001907</td>\n",
       "      <td>732</td>\n",
       "      <td>0</td>\n",
       "      <td>0.549708</td>\n",
       "      <td>38022.16217</td>\n",
       "    </tr>\n",
       "  </tbody>\n",
       "</table>\n",
       "</div>"
      ],
      "text/plain": [
       "          Year of Record  Gender       Age  Country  Size of City  Profession  \\\n",
       "Instance                                                                        \n",
       "1               0.989104       0  0.325397       12      0.024801        1220   \n",
       "2               0.988608       3  0.325397      128      0.032073        1059   \n",
       "3               0.999505       3  0.222222      109      0.025963        1019   \n",
       "4               0.993561       3  0.261905       36      0.015039         566   \n",
       "5               0.995542       1  0.365079      156      0.001907         732   \n",
       "\n",
       "          University Degree  Body Height _cm_  Income in EUR  \n",
       "Instance                                                      \n",
       "1                         1          0.578947    61031.94416  \n",
       "2                         2          0.538012    91001.32764  \n",
       "3                         4          0.444444   157982.17670  \n",
       "4                         3          0.450292    45993.75793  \n",
       "5                         0          0.549708    38022.16217  "
      ]
     },
     "execution_count": 16,
     "metadata": {},
     "output_type": "execute_result"
    }
   ],
   "source": [
    "train_df.head()"
   ]
  },
  {
   "cell_type": "code",
   "execution_count": 17,
   "metadata": {},
   "outputs": [
    {
     "data": {
      "text/plain": [
       "<matplotlib.axes._subplots.AxesSubplot at 0x12aa0cf60>"
      ]
     },
     "execution_count": 17,
     "metadata": {},
     "output_type": "execute_result"
    },
    {
     "data": {
      "image/png": "[encoded data removed]",
      "text/plain": [
       "<Figure size 432x288 with 1 Axes>"
      ]
     },
     "metadata": {
      "needs_background": "light"
     },
     "output_type": "display_data"
    }
   ],
   "source": [
    "sns.distplot(train_df['Income in EUR'])"
   ]
  },
  {
   "cell_type": "markdown",
   "metadata": {},
   "source": [
    "## Removing Outliers"
   ]
  },
  {
   "cell_type": "code",
   "execution_count": 18,
   "metadata": {},
   "outputs": [
    {
     "name": "stdout",
     "output_type": "stream",
     "text": [
      "(111993, 9)\n",
      "(111992, 9)\n"
     ]
    },
    {
     "data": {
      "image/png": "[encoded data removed]",
      "text/plain": [
       "<Figure size 1152x288 with 10 Axes>"
      ]
     },
     "metadata": {
      "needs_background": "light"
     },
     "output_type": "display_data"
    }
   ],
   "source": [
    "import matplotlib.pyplot as plt\n",
    "import numpy as np\n",
    "fig, axes = plt.subplots(ncols=5, nrows=2, figsize=(16, 4))\n",
    "axes = np.ravel(axes)\n",
    "col_name = ['Age','Size of City','Profession']\n",
    "for i, c in zip(range(5), col_name):\n",
    "    train_df.plot.scatter(ax=axes[i], x=c, y='Income in EUR', sharey=True, colorbar=False, c='r')\n",
    "\n",
    "# delete outliers\n",
    "print(train_df.shape)\n",
    "train_df = train_df[train_df['Income in EUR'] < 3500000]\n",
    "\n",
    "print(train_df.shape)\n",
    "\n",
    "for i, c in zip(range(5,10), col_name):\n",
    "    train_df.plot.scatter(ax=axes[i], x=c, y='Income in EUR', sharey=True, colorbar=False, c='b')"
   ]
  },
  {
   "cell_type": "markdown",
   "metadata": {},
   "source": [
    "### Defining X and Y for the split part."
   ]
  },
  {
   "cell_type": "code",
   "execution_count": 19,
   "metadata": {},
   "outputs": [],
   "source": [
    "X = train_df.drop('Income in EUR',axis=1)\n",
    "y = train_df['Income in EUR']"
   ]
  },
  {
   "cell_type": "code",
   "execution_count": 20,
   "metadata": {},
   "outputs": [],
   "source": [
    "x_train, x_val_, y_train, y_val = ms.train_test_split(X,y.values, test_size=0.30, random_state=0)"
   ]
  },
  {
   "cell_type": "markdown",
   "metadata": {},
   "source": [
    "# Training the Model"
   ]
  },
  {
   "cell_type": "code",
   "execution_count": 23,
   "metadata": {},
   "outputs": [
    {
     "name": "stdout",
     "output_type": "stream",
     "text": [
      "[0]\tvalidation_0-rmse:179548\n",
      "Will train until validation_0-rmse hasn't improved in 30 rounds.\n",
      "[20]\tvalidation_0-rmse:138728\n",
      "[40]\tvalidation_0-rmse:125891\n",
      "[60]\tvalidation_0-rmse:117430\n",
      "[80]\tvalidation_0-rmse:110904\n",
      "[100]\tvalidation_0-rmse:104266\n",
      "[120]\tvalidation_0-rmse:100494\n",
      "[140]\tvalidation_0-rmse:97266.4\n",
      "[160]\tvalidation_0-rmse:93825.5\n",
      "[180]\tvalidation_0-rmse:90996.3\n",
      "[200]\tvalidation_0-rmse:88233.9\n",
      "[220]\tvalidation_0-rmse:84406.2\n",
      "[240]\tvalidation_0-rmse:82063.6\n",
      "[260]\tvalidation_0-rmse:80193\n",
      "[280]\tvalidation_0-rmse:78833.5\n",
      "[300]\tvalidation_0-rmse:77682.8\n",
      "[320]\tvalidation_0-rmse:76755.2\n",
      "[340]\tvalidation_0-rmse:75928.7\n",
      "[360]\tvalidation_0-rmse:75213.3\n",
      "[380]\tvalidation_0-rmse:74377.5\n",
      "[400]\tvalidation_0-rmse:73611.9\n",
      "[420]\tvalidation_0-rmse:73288\n",
      "[440]\tvalidation_0-rmse:72989.9\n",
      "[460]\tvalidation_0-rmse:72446.1\n",
      "[480]\tvalidation_0-rmse:71951.5\n",
      "[500]\tvalidation_0-rmse:71443.1\n",
      "[520]\tvalidation_0-rmse:70875.7\n",
      "[540]\tvalidation_0-rmse:70578.4\n",
      "[560]\tvalidation_0-rmse:70211.8\n",
      "[580]\tvalidation_0-rmse:70104.9\n",
      "[600]\tvalidation_0-rmse:69817\n",
      "[620]\tvalidation_0-rmse:69656.2\n",
      "[640]\tvalidation_0-rmse:69505.4\n",
      "[660]\tvalidation_0-rmse:69262.6\n",
      "[680]\tvalidation_0-rmse:69150.8\n",
      "[700]\tvalidation_0-rmse:68935\n",
      "[720]\tvalidation_0-rmse:68806.4\n",
      "[740]\tvalidation_0-rmse:68699.6\n",
      "[760]\tvalidation_0-rmse:68582.6\n",
      "[780]\tvalidation_0-rmse:68357.5\n",
      "[800]\tvalidation_0-rmse:68163.2\n",
      "[820]\tvalidation_0-rmse:68049\n",
      "[840]\tvalidation_0-rmse:67953.2\n",
      "[860]\tvalidation_0-rmse:67881.3\n",
      "[880]\tvalidation_0-rmse:67682.6\n",
      "[900]\tvalidation_0-rmse:67620.2\n",
      "[920]\tvalidation_0-rmse:67574.4\n",
      "[940]\tvalidation_0-rmse:67386\n",
      "[960]\tvalidation_0-rmse:67352.2\n",
      "[980]\tvalidation_0-rmse:67248.8\n",
      "[1000]\tvalidation_0-rmse:67178.8\n",
      "[1020]\tvalidation_0-rmse:67144\n",
      "[1040]\tvalidation_0-rmse:67102\n",
      "[1060]\tvalidation_0-rmse:67052.2\n",
      "[1080]\tvalidation_0-rmse:66970.1\n",
      "[1100]\tvalidation_0-rmse:66841\n",
      "[1120]\tvalidation_0-rmse:66782.5\n",
      "[1140]\tvalidation_0-rmse:66713.6\n",
      "[1160]\tvalidation_0-rmse:66690\n",
      "[1180]\tvalidation_0-rmse:66664.7\n",
      "[1200]\tvalidation_0-rmse:66642.1\n",
      "[1220]\tvalidation_0-rmse:66630.8\n",
      "[1240]\tvalidation_0-rmse:66595.7\n",
      "[1260]\tvalidation_0-rmse:66569.9\n",
      "[1280]\tvalidation_0-rmse:66517\n",
      "[1300]\tvalidation_0-rmse:66475.8\n",
      "[1320]\tvalidation_0-rmse:66446.5\n",
      "[1340]\tvalidation_0-rmse:66405.3\n",
      "[1360]\tvalidation_0-rmse:66397.6\n",
      "[1380]\tvalidation_0-rmse:66347.8\n",
      "[1400]\tvalidation_0-rmse:66354.3\n",
      "Stopping. Best iteration:\n",
      "[1372]\tvalidation_0-rmse:66341.1\n",
      "\n"
     ]
    },
    {
     "data": {
      "text/plain": [
       "XGBRegressor(base_score=0.5, booster='gbtree', colsample_bylevel=1,\n",
       "             colsample_bynode=1, colsample_bytree=1, gamma=0,\n",
       "             importance_type='gain', learning_rate=0.05, max_delta_step=0,\n",
       "             max_depth=6, min_child_weight=5, missing=None, n_estimators=3000,\n",
       "             n_jobs=1, nthread=None, objective='reg:squarederror',\n",
       "             random_state=0, reg_alpha=0, reg_lambda=1, scale_pos_weight=1,\n",
       "             seed=None, silent=None, subsample=1.0, verbosity=1)"
      ]
     },
     "execution_count": 23,
     "metadata": {},
     "output_type": "execute_result"
    }
   ],
   "source": [
    "import numpy as np\n",
    "import pandas as pd\n",
    "from sklearn.linear_model import RidgeCV\n",
    "from sklearn.model_selection import train_test_split\n",
    "from sklearn.pipeline import make_pipeline, make_union\n",
    "from xgboost import XGBRegressor\n",
    "from sklearn.preprocessing import FunctionTransformer, StandardScaler\n",
    "from copy import copy\n",
    "\n",
    "\n",
    "\n",
    "from xgboost import XGBRegressor\n",
    "my_model = XGBRegressor(objective ='reg:squarederror',\n",
    "                        n_estimators=3000,\n",
    "                        learning_rate=0.05,\n",
    "                        max_depth=6,\n",
    "                        colsample_bytree =1,\n",
    "                        min_child_weight=5,\n",
    "                        subsample=1.0)\n",
    "my_model.fit(x_train, y_train, early_stopping_rounds=30, \n",
    "             eval_set=[(x_val_, y_val)], verbose=20)"
   ]
  },
  {
   "cell_type": "markdown",
   "metadata": {},
   "source": [
    "# Exporting the predicted Values"
   ]
  },
  {
   "cell_type": "code",
   "execution_count": 266,
   "metadata": {},
   "outputs": [
    {
     "data": {
      "text/plain": [
       "0         32601.904297\n",
       "1         14108.919922\n",
       "2         37126.425781\n",
       "3        100286.085938\n",
       "4         29342.998047\n",
       "5        113070.562500\n",
       "6        105736.195312\n",
       "7         49035.964844\n",
       "8         54958.136719\n",
       "9        107200.968750\n",
       "10         9711.845703\n",
       "11       227347.796875\n",
       "12        33580.242188\n",
       "13       110469.390625\n",
       "14       280353.531250\n",
       "15        80925.039062\n",
       "16        41296.980469\n",
       "17        25363.539062\n",
       "18        11691.452148\n",
       "19        17202.294922\n",
       "20       108696.898438\n",
       "21        45399.832031\n",
       "22        38391.480469\n",
       "23        28074.687500\n",
       "24       154989.046875\n",
       "25        56320.867188\n",
       "26        30982.804688\n",
       "27        22500.490234\n",
       "28       105377.875000\n",
       "29        70983.218750\n",
       "             ...      \n",
       "73200      7509.673340\n",
       "73201    254443.718750\n",
       "73202    181676.750000\n",
       "73203     88665.656250\n",
       "73204     23906.388672\n",
       "73205     86393.054688\n",
       "73206     99170.265625\n",
       "73207     52242.796875\n",
       "73208     68887.554688\n",
       "73209     78007.281250\n",
       "73210     34870.437500\n",
       "73211     75531.976562\n",
       "73212     42031.910156\n",
       "73213     18102.042969\n",
       "73214     39585.582031\n",
       "73215     64984.878906\n",
       "73216    103540.812500\n",
       "73217    118937.171875\n",
       "73218    215274.953125\n",
       "73219     99898.101562\n",
       "73220     17351.564453\n",
       "73221     31923.044922\n",
       "73222    103636.031250\n",
       "73223    184796.921875\n",
       "73224    615902.812500\n",
       "73225     97350.843750\n",
       "73226     97219.507812\n",
       "73227     68731.484375\n",
       "73228    159755.312500\n",
       "73229    163828.593750\n",
       "Name: Income, Length: 73230, dtype: float32"
      ]
     },
     "execution_count": 266,
     "metadata": {},
     "output_type": "execute_result"
    }
   ],
   "source": [
    "pred = my_model.predict(x_test)\n",
    "test_df['Income'] = pred\n",
    "test_df.to_csv('Submission.csv', columns = ['Income'])\n",
    "test_df['Income']"
   ]
  },
  {
   "cell_type": "code",
   "execution_count": 145,
   "metadata": {},
   "outputs": [
    {
     "data": {
      "text/plain": [
       "<matplotlib.axes._subplots.AxesSubplot at 0x1286c9470>"
      ]
     },
     "execution_count": 145,
     "metadata": {},
     "output_type": "execute_result"
    },
    {
     "data": {
      "image/png": "[encoded data removed]",
      "text/plain": [
       "<Figure size 432x288 with 1 Axes>"
      ]
     },
     "metadata": {
      "needs_background": "light"
     },
     "output_type": "display_data"
    }
   ],
   "source": [
    "import seaborn as sns\n",
    "sns.boxplot(x=train_df['Income in EUR'])"
   ]
  },
  {
   "cell_type": "code",
   "execution_count": 148,
   "metadata": {},
   "outputs": [
    {
     "name": "stdout",
     "output_type": "stream",
     "text": [
      "5045\n"
     ]
    }
   ],
   "source": [
    "count = 0\n",
    "for i in train_df['Income in EUR'].values:\n",
    "    if i >= 400000:\n",
    "        count += 1\n",
    "print(count)"
   ]
  },
  {
   "cell_type": "code",
   "execution_count": null,
   "metadata": {},
   "outputs": [],
   "source": []
  }
 ],
 "metadata": {
  "kernelspec": {
   "display_name": "Python 3",
   "language": "python",
   "name": "python3"
  },
  "language_info": {
   "codemirror_mode": {
    "name": "ipython",
    "version": 3
   },
   "file_extension": ".py",
   "mimetype": "text/x-python",
   "name": "python",
   "nbconvert_exporter": "python",
   "pygments_lexer": "ipython3",
   "version": "3.7.3"
  }
 },
 "nbformat": 4,
 "nbformat_minor": 4
}
